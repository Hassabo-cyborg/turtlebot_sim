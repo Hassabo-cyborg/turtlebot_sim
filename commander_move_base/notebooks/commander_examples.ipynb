{
 "cells": [
  {
   "cell_type": "code",
   "execution_count": 11,
   "metadata": {},
   "outputs": [],
   "source": [
    "import rospy\n",
    "from nav_msgs.srv import GetPlan\n",
    "from commander_move_base.utils import cmd_pub, move_base_client, laser_sub, odom_sub, make_plan_service\n",
    "\n",
    "rospy.init_node('command_node', anonymous=True)\n",
    "rospy.wait_for_service('/move_base/make_plan')"
   ]
  },
  {
   "cell_type": "code",
   "execution_count": 12,
   "metadata": {},
   "outputs": [],
   "source": [
    "cmd_pub(0.5, 0.7, 0.1)"
   ]
  },
  {
   "cell_type": "code",
   "execution_count": 14,
   "metadata": {},
   "outputs": [
    {
     "name": "stdout",
     "output_type": "stream",
     "text": [
      "[INFO] [1705797859.041171, 3459.070000]: Sent goal to move_base: x=4, y=1, yaw=0.5\n"
     ]
    }
   ],
   "source": [
    "move_base_client(4, 1, 0.5)"
   ]
  },
  {
   "cell_type": "code",
   "execution_count": null,
   "metadata": {},
   "outputs": [],
   "source": [
    "cmd_pub(0, 0, 0)"
   ]
  },
  {
   "cell_type": "code",
   "execution_count": null,
   "metadata": {},
   "outputs": [],
   "source": [
    "laser_sub()"
   ]
  },
  {
   "cell_type": "code",
   "execution_count": null,
   "metadata": {},
   "outputs": [],
   "source": [
    "odom_sub()"
   ]
  },
  {
   "cell_type": "code",
   "execution_count": null,
   "metadata": {},
   "outputs": [],
   "source": [
    "plan = make_plan_service(2,2,0.5,-1,2,0.1)\n",
    "if plan:\n",
    "    # Log or print the entire Path message\n",
    "    rospy.loginfo(f\"Received plan: {plan}\")\n",
    "else:\n",
    "    rospy.logerr(\"Failed to receive a valid plan.\")"
   ]
  },
  {
   "cell_type": "code",
   "execution_count": 17,
   "metadata": {},
   "outputs": [
    {
     "ename": "ROSException",
     "evalue": "rospy.init_node() has already been called with different arguments: ('command_node', ['/home/hassabo/.local/lib/python3.8/site-packages/ipykernel_launcher.py', '--f=/home/hassabo/.local/share/jupyter/runtime/kernel-v2-247188nLT8BV0xWF4i.json'], True, None, False, False)",
     "output_type": "error",
     "traceback": [
      "\u001b[0;31m---------------------------------------------------------------------------\u001b[0m",
      "\u001b[0;31mROSException\u001b[0m                              Traceback (most recent call last)",
      "Cell \u001b[0;32mIn[17], line 7\u001b[0m\n\u001b[1;32m      4\u001b[0m \u001b[38;5;28;01mfrom\u001b[39;00m \u001b[38;5;21;01mmove_base_msgs\u001b[39;00m\u001b[38;5;21;01m.\u001b[39;00m\u001b[38;5;21;01mmsg\u001b[39;00m \u001b[38;5;28;01mimport\u001b[39;00m MoveBaseAction, MoveBaseGoal\n\u001b[1;32m      5\u001b[0m \u001b[38;5;28;01mfrom\u001b[39;00m \u001b[38;5;21;01mgeometry_msgs\u001b[39;00m\u001b[38;5;21;01m.\u001b[39;00m\u001b[38;5;21;01mmsg\u001b[39;00m \u001b[38;5;28;01mimport\u001b[39;00m PoseWithCovarianceStamped, PoseArray,Pose,Quaternion,Twist,Point\n\u001b[0;32m----> 7\u001b[0m \u001b[43mrospy\u001b[49m\u001b[38;5;241;43m.\u001b[39;49m\u001b[43minit_node\u001b[49m\u001b[43m(\u001b[49m\u001b[38;5;124;43m'\u001b[39;49m\u001b[38;5;124;43mturtlebot_mover\u001b[39;49m\u001b[38;5;124;43m'\u001b[39;49m\u001b[43m)\u001b[49m\n\u001b[1;32m     10\u001b[0m \u001b[38;5;28;01mdef\u001b[39;00m \u001b[38;5;21mincreaseRobotSpeed\u001b[39m():\n\u001b[1;32m     11\u001b[0m     msgTwist \u001b[38;5;241m=\u001b[39m Twist()\n",
      "File \u001b[0;32m/opt/ros/noetic/lib/python3/dist-packages/rospy/client.py:274\u001b[0m, in \u001b[0;36minit_node\u001b[0;34m(name, argv, anonymous, log_level, disable_rostime, disable_rosout, disable_signals, xmlrpc_port, tcpros_port)\u001b[0m\n\u001b[1;32m    272\u001b[0m \u001b[38;5;28;01mif\u001b[39;00m _init_node_args:\n\u001b[1;32m    273\u001b[0m     \u001b[38;5;28;01mif\u001b[39;00m _init_node_args \u001b[38;5;241m!=\u001b[39m (name, argv, anonymous, log_level, disable_rostime, disable_signals):\n\u001b[0;32m--> 274\u001b[0m         \u001b[38;5;28;01mraise\u001b[39;00m rospy\u001b[38;5;241m.\u001b[39mexceptions\u001b[38;5;241m.\u001b[39mROSException(\u001b[38;5;124m\"\u001b[39m\u001b[38;5;124mrospy.init_node() has already been called with different arguments: \u001b[39m\u001b[38;5;124m\"\u001b[39m\u001b[38;5;241m+\u001b[39m\u001b[38;5;28mstr\u001b[39m(_init_node_args))\n\u001b[1;32m    275\u001b[0m     \u001b[38;5;28;01melse\u001b[39;00m:\n\u001b[1;32m    276\u001b[0m         \u001b[38;5;28;01mreturn\u001b[39;00m \u001b[38;5;66;03m#already initialized\u001b[39;00m\n",
      "\u001b[0;31mROSException\u001b[0m: rospy.init_node() has already been called with different arguments: ('command_node', ['/home/hassabo/.local/lib/python3.8/site-packages/ipykernel_launcher.py', '--f=/home/hassabo/.local/share/jupyter/runtime/kernel-v2-247188nLT8BV0xWF4i.json'], True, None, False, False)"
     ]
    }
   ],
   "source": [
    "#!/usr/bin/env python\n",
    "\n",
    "import actionlib, rospy\n",
    "from move_base_msgs.msg import MoveBaseAction, MoveBaseGoal\n",
    "from geometry_msgs.msg import PoseWithCovarianceStamped, PoseArray,Pose,Quaternion,Twist,Point\n",
    "\n",
    "rospy.init_node('turtlebot_mover')\n",
    "\n",
    "\n",
    "def increaseRobotSpeed():\n",
    "    msgTwist = Twist()\n",
    "    # The turtlebot Robot subscribe to cmd_vel topic so we send the cmd topic a linear speed(twist) so\n",
    "    # the turtlebot will increase its speed \n",
    "    pub = rospy.Publisher('/cmd_vel', Twist, queue_size=1)\n",
    "    msgTwist.linear.x = 12\n",
    "    pub.publish(msgTwist)\n",
    "    rospy.loginfo('speed increased...')\n",
    "\n",
    "def CustomWayPoints():\n",
    "    # Create the dictionary \n",
    "    locations = dict()\n",
    "    # add our waypoint names and values. \n",
    "    locations['waypoint1'] = Pose(Point(10.547, 7.570, 0.000), Quaternion(0.000, 0.000, -0.396, 0.918)),\n",
    "    locations['waypoint2'] = Pose(Point(6.405, 11.863, 0.000),Quaternion(0.000, 0.000, -0.709, 0.704)),\n",
    "    locations['waypoint3'] = Pose(Point(-4.511, -3.583, 0.000), Quaternion(0.000, 0.000, 0.622, 0.782)),\n",
    "    return locations\n",
    "\n",
    "# create a function that represnt posearray in Rviz so we could visualize the waypoints \n",
    "def wayPointsRviz(waypointsList):\n",
    "    poseArrayPub= rospy.Publisher('/waypoints', PoseArray, queue_size=1)\n",
    "    waypoints = PoseArray()\n",
    "    waypoints.header.frame_id = 'map'\n",
    "    waypointPoses = []\n",
    "    for key, value in waypointsList.items():\n",
    "        waypointPoses.append(waypointsList[key])\n",
    "\n",
    "    waypoints.poses = waypointPoses\n",
    "    poseArrayPub.publish(waypoints)\n",
    "\n",
    "    return waypoints\n",
    "\n",
    "\n",
    "def sendGoals(waypoints):\n",
    "    # With msg type PoseWithCovarianceStamped. \n",
    "    initial_pose = PoseWithCovarianceStamped()\n",
    "\n",
    "    def update_initial_pose(initial_pose):\n",
    "        initial_pose = initial_pose\n",
    "\n",
    "    # set initial pose of the robot \n",
    "    initial_pose = PoseWithCovarianceStamped()\n",
    "    rospy.Subscriber('initialpose', PoseWithCovarianceStamped, update_initial_pose)\n",
    "\n",
    "    #This line of code is used when to get the initial position using RViz (The user needs to click on the map) \n",
    "    rospy.wait_for_message('initialpose', PoseWithCovarianceStamped)\n",
    "\n",
    "    # subscribe to action server \n",
    "    client = actionlib.SimpleActionClient('move_base',MoveBaseAction)\n",
    "    # this command to wait for the server to start listening for goals.\n",
    "    client.wait_for_server()\n",
    "\n",
    "    # Show reuqired waypoints(red arrows of goals ) in Rviz\n",
    "    wayPointsRviz(waypoints)\n",
    "\n",
    "    # increase Robot speed while navigating \n",
    "    #while not rospy.is_shutdown():\n",
    "    #increaseRobotSpeed()\n",
    "    \n",
    "    # Iterate over all the waypoits, follow the path \n",
    "    for key, value in waypoints.items():\n",
    "        goal = MoveBaseGoal()\n",
    "        goal.target_pose.header.frame_id = \"map\"\n",
    "        goal.target_pose.header.stamp = rospy.Time.now()\n",
    "\n",
    "        goal.target_pose.pose.position.x = waypoints[key].position.x\n",
    "        goal.target_pose.pose.position.y = waypoints[key].position.y\n",
    "        goal.target_pose.pose.position.z = waypoints[key].position.z\n",
    "        # Goal Orientation\n",
    "        goal.target_pose.pose.orientation.x = waypoints[key].orientation.x\n",
    "        goal.target_pose.pose.orientation.y = waypoints[key].orientation.y\n",
    "        goal.target_pose.pose.orientation.w = waypoints[key].orientation.z\n",
    "        goal.target_pose.pose.orientation.z = waypoints[key].orientation.w\n",
    "\n",
    "        client.send_goal(goal)\n",
    "        wait = client.wait_for_result()\n",
    "    rospy.loginfo('The waypoints path is complete')\n",
    "\n",
    "\n",
    "ss = CustomWayPoints()\n",
    "\n",
    "send = sendGoals(ss)\n",
    "#print(wayPointsRviz(ss))"
   ]
  }
 ],
 "metadata": {
  "kernelspec": {
   "display_name": "Python 3",
   "language": "python",
   "name": "python3"
  },
  "language_info": {
   "codemirror_mode": {
    "name": "ipython",
    "version": 3
   },
   "file_extension": ".py",
   "mimetype": "text/x-python",
   "name": "python",
   "nbconvert_exporter": "python",
   "pygments_lexer": "ipython3",
   "version": "3.8.10"
  }
 },
 "nbformat": 4,
 "nbformat_minor": 2
}
